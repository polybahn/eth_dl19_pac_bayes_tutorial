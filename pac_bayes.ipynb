{
 "cells": [
  {
   "cell_type": "code",
   "execution_count": 36,
   "metadata": {},
   "outputs": [],
   "source": [
    "# In this tutorial, we will implement a simple linear regression model \n",
    "# with PAC Bayesian SGD method\n",
    "import numpy as np\n",
    "np.random.seed(41)"
   ]
  },
  {
   "cell_type": "code",
   "execution_count": 41,
   "metadata": {},
   "outputs": [],
   "source": [
    "# configs\n",
    "n_sample = 100  # number of samples in training set\n",
    "dim = 5  # dimension of feature vector for each sample "
   ]
  },
  {
   "cell_type": "code",
   "execution_count": 64,
   "metadata": {},
   "outputs": [
    {
     "name": "stdout",
     "output_type": "stream",
     "text": [
      "[[0.02416408 0.         0.         0.         0.        ]\n",
      " [0.         0.02430416 0.         0.         0.        ]\n",
      " [0.         0.         0.41832593 0.         0.        ]\n",
      " [0.         0.         0.         0.43920645 0.        ]\n",
      " [0.         0.         0.         0.         0.57919186]]\n"
     ]
    }
   ],
   "source": [
    "# Section 1: Data preparation\n",
    "# generate X: n samples of dimension d ~ N(0, diag(sigma_1^2, sigma_2^2, ..., sigma_d^2))\n",
    "# generate y: n samples of dimension 1 ~ X^T . w* + epsilon. with epsilon ~ N(0, I)\n",
    "\n",
    "mean_x = np.zeros(dim, dtype=np.float32)\n",
    "diag_x = np.zeros([dim, dim], dtype=np.float32)\n",
    "for i, sigma in enumerate(np.sort(np.random.rand(dim))):\n",
    "    diag_x[i, i] = sigma ** 2\n",
    "print(diag_x)"
   ]
  },
  {
   "cell_type": "code",
   "execution_count": 65,
   "metadata": {},
   "outputs": [
    {
     "name": "stdout",
     "output_type": "stream",
     "text": [
      "(100, 5)\n",
      "[[ 0.13642804 -0.04913764 -0.25911475 -0.22302076  0.75739196]\n",
      " [-0.10383092 -0.12020316 -0.81173074 -0.55669558 -0.27395614]]\n"
     ]
    }
   ],
   "source": [
    "X = np.random.multivariate_normal(mean_x, diag_x, n_sample)\n",
    "print(X.shape)\n",
    "print(X[0:2])"
   ]
  },
  {
   "cell_type": "code",
   "execution_count": 66,
   "metadata": {},
   "outputs": [
    {
     "name": "stdout",
     "output_type": "stream",
     "text": [
      "[2.4660421  0.47616529 0.6545285  2.61863652 0.24577484]\n"
     ]
    }
   ],
   "source": [
    "w_star = 3 * np.random.rand(dim)\n",
    "print(w_star)"
   ]
  },
  {
   "cell_type": "code",
   "execution_count": 67,
   "metadata": {},
   "outputs": [],
   "source": [
    "epsilon = np.random.normal(0, 1, n_sample)"
   ]
  },
  {
   "cell_type": "code",
   "execution_count": 68,
   "metadata": {},
   "outputs": [
    {
     "name": "stdout",
     "output_type": "stream",
     "text": [
      "[-0.24868233 -1.18693009 -2.72361888  2.04369675  3.5666234   4.00559659\n",
      " -0.31415208  1.06377222 -0.59170569  2.64931045]\n"
     ]
    }
   ],
   "source": [
    "y = np.dot(X, w_star) + epsilon\n",
    "print(y[0:10])"
   ]
  },
  {
   "cell_type": "code",
   "execution_count": null,
   "metadata": {},
   "outputs": [],
   "source": []
  },
  {
   "cell_type": "code",
   "execution_count": null,
   "metadata": {},
   "outputs": [],
   "source": []
  },
  {
   "cell_type": "code",
   "execution_count": null,
   "metadata": {},
   "outputs": [],
   "source": [
    "# Section 2: "
   ]
  }
 ],
 "metadata": {
  "kernelspec": {
   "display_name": "Python 3",
   "language": "python",
   "name": "python3"
  },
  "language_info": {
   "codemirror_mode": {
    "name": "ipython",
    "version": 3
   },
   "file_extension": ".py",
   "mimetype": "text/x-python",
   "name": "python",
   "nbconvert_exporter": "python",
   "pygments_lexer": "ipython3",
   "version": "3.7.4"
  }
 },
 "nbformat": 4,
 "nbformat_minor": 2
}
